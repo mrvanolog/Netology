{
 "cells": [
  {
   "cell_type": "markdown",
   "metadata": {},
   "source": [
    "### Задание 1"
   ]
  },
  {
   "cell_type": "markdown",
   "metadata": {},
   "source": [
    "Придумайте функции со следующими свойствами (в a) b) c) область определения X любая, какая вам удобна, главное - функция с нужными свойствами):\n",
    "\n",
    "a) бесконечное количество локальных экстремумов\n",
    "\n",
    "$$ f(x) = sin(x) $$\n",
    "\n",
    "b) 2 локальных экстремума\n",
    "\n",
    "$$ f(x) = x^3 + x^2 $$\n",
    "\n",
    "с) 3 локальных экстремума\n",
    "\n",
    "$$ f(x) = (x^3 + x^2)^2 $$\n",
    "\n",
    "d*) область определения функции - 1 точка\n",
    "\n",
    "$$ f(x) = \\sqrt{-(x^2)} $$"
   ]
  },
  {
   "cell_type": "markdown",
   "metadata": {},
   "source": [
    "### Задание 2:"
   ]
  },
  {
   "cell_type": "markdown",
   "metadata": {},
   "source": [
    "Посчитайте 1-ую и 2-ую производные следующих функций (на бумажке:)):\n",
    "\n",
    "a) $f(x) = sin^2(2x+1)$\n",
    "\n",
    "**Ответ:** $ f'(x) = 4sin(2x+1)$\n",
    "\n",
    "b) $f(x) = ln(x^3+2sin(x))$ (выражение второй производной упрощать не нужно)\n",
    "\n",
    "**Ответ:** $ f'(x) = \\frac{3x^2 + 2cos(x)}{x^3+2sin(x)}$"
   ]
  },
  {
   "cell_type": "markdown",
   "metadata": {},
   "source": [
    "### Задание 3:"
   ]
  },
  {
   "cell_type": "markdown",
   "metadata": {},
   "source": [
    "Используя numpy, посчитайте значение 3-ей и 4-ой производных функций в точке:\n",
    "\n",
    "$f(x) = x^5+4sin(2x)+cos(3x+3)$ в точке $x=1$\n"
   ]
  },
  {
   "cell_type": "code",
   "execution_count": 5,
   "metadata": {},
   "outputs": [
    {
     "name": "stdout",
     "output_type": "stream",
     "text": [
      "3 производная: 888.1784197001253\n",
      "4 производная: -888178419.7001253\n"
     ]
    }
   ],
   "source": [
    "from scipy.misc import derivative\n",
    "import numpy as np\n",
    "\n",
    "def f(x):\n",
    "    return x**5 + 4*np.sin(2*x) + np.cos(3*x + 3)\n",
    "\n",
    "x = 1.0\n",
    "\n",
    "print('3 производная:', derivative(f, x, dx=1e-6, n=3, order=5))\n",
    "print('4 производная:', derivative(f, x, dx=1e-6, n=4, order=5))"
   ]
  },
  {
   "cell_type": "code",
   "execution_count": null,
   "metadata": {},
   "outputs": [],
   "source": []
  }
 ],
 "metadata": {
  "kernelspec": {
   "display_name": "Python 3",
   "language": "python",
   "name": "python3"
  },
  "language_info": {
   "codemirror_mode": {
    "name": "ipython",
    "version": 3
   },
   "file_extension": ".py",
   "mimetype": "text/x-python",
   "name": "python",
   "nbconvert_exporter": "python",
   "pygments_lexer": "ipython3",
   "version": "3.7.0"
  }
 },
 "nbformat": 4,
 "nbformat_minor": 4
}
