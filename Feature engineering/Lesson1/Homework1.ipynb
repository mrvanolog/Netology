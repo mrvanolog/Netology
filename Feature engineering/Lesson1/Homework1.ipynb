{
 "cells": [
  {
   "cell_type": "code",
   "execution_count": 1,
   "metadata": {},
   "outputs": [],
   "source": [
    "import numpy as np\n",
    "import pandas as pd\n",
    "\n",
    "from sklearn.linear_model import LinearRegression"
   ]
  },
  {
   "cell_type": "markdown",
   "metadata": {},
   "source": [
    "Создадим сэмпл сотрудников и их зарплат"
   ]
  },
  {
   "cell_type": "code",
   "execution_count": 2,
   "metadata": {},
   "outputs": [
    {
     "data": {
      "text/html": [
       "<div>\n",
       "<style scoped>\n",
       "    .dataframe tbody tr th:only-of-type {\n",
       "        vertical-align: middle;\n",
       "    }\n",
       "\n",
       "    .dataframe tbody tr th {\n",
       "        vertical-align: top;\n",
       "    }\n",
       "\n",
       "    .dataframe thead th {\n",
       "        text-align: right;\n",
       "    }\n",
       "</style>\n",
       "<table border=\"1\" class=\"dataframe\">\n",
       "  <thead>\n",
       "    <tr style=\"text-align: right;\">\n",
       "      <th></th>\n",
       "      <th>age_worker</th>\n",
       "      <th>projects_month</th>\n",
       "      <th>hours_project</th>\n",
       "      <th>sick_days</th>\n",
       "      <th>pay</th>\n",
       "    </tr>\n",
       "  </thead>\n",
       "  <tbody>\n",
       "    <tr>\n",
       "      <th>0</th>\n",
       "      <td>60</td>\n",
       "      <td>4</td>\n",
       "      <td>23</td>\n",
       "      <td>7</td>\n",
       "      <td>477.5</td>\n",
       "    </tr>\n",
       "    <tr>\n",
       "      <th>1</th>\n",
       "      <td>32</td>\n",
       "      <td>1</td>\n",
       "      <td>23</td>\n",
       "      <td>6</td>\n",
       "      <td>130.0</td>\n",
       "    </tr>\n",
       "    <tr>\n",
       "      <th>2</th>\n",
       "      <td>29</td>\n",
       "      <td>2</td>\n",
       "      <td>38</td>\n",
       "      <td>2</td>\n",
       "      <td>385.0</td>\n",
       "    </tr>\n",
       "    <tr>\n",
       "      <th>3</th>\n",
       "      <td>53</td>\n",
       "      <td>4</td>\n",
       "      <td>32</td>\n",
       "      <td>3</td>\n",
       "      <td>647.5</td>\n",
       "    </tr>\n",
       "    <tr>\n",
       "      <th>4</th>\n",
       "      <td>34</td>\n",
       "      <td>5</td>\n",
       "      <td>14</td>\n",
       "      <td>4</td>\n",
       "      <td>360.0</td>\n",
       "    </tr>\n",
       "  </tbody>\n",
       "</table>\n",
       "</div>"
      ],
      "text/plain": [
       "   age_worker  projects_month  hours_project  sick_days    pay\n",
       "0          60               4             23          7  477.5\n",
       "1          32               1             23          6  130.0\n",
       "2          29               2             38          2  385.0\n",
       "3          53               4             32          3  647.5\n",
       "4          34               5             14          4  360.0"
      ]
     },
     "execution_count": 2,
     "metadata": {},
     "output_type": "execute_result"
    }
   ],
   "source": [
    "n_samples = 500\n",
    "\n",
    "# возраст сотрудника от 18 до 60\n",
    "age_worker = np.random.choice(43, n_samples) + 18\n",
    "# количество проектов, которые сотрудник выполняет в месяц\n",
    "projects_month = np.random.choice(5, n_samples) + 1\n",
    "# количество часов, которые сотрудник в среднем тратит на каждый проект\n",
    "hours_project = np.random.choice(30, n_samples) + 10\n",
    "# количесто больничных в меясц\n",
    "sick_days = np.random.choice(7, n_samples) + 1\n",
    "\n",
    "# зарплата сотрудников\n",
    "pay = projects_month * hours_project * 5 + sick_days * 2.5\n",
    "\n",
    "data = pd.DataFrame({'age_worker': age_worker, 'projects_month': projects_month, \n",
    "                     'hours_project': hours_project, 'sick_days': sick_days,\n",
    "                     'pay': pay})\n",
    "data.head(5)"
   ]
  },
  {
   "cell_type": "markdown",
   "metadata": {},
   "source": [
    "Попробуем предсказывать зарплату сотрудников используя модель линейной регрессии"
   ]
  },
  {
   "cell_type": "code",
   "execution_count": 3,
   "metadata": {},
   "outputs": [
    {
     "name": "stdout",
     "output_type": "stream",
     "text": [
      "Weights: [-2.00512318e-02  1.20955527e+02  1.48303281e+01  3.34600320e+00]\n",
      "Bias: -356.2489227041279\n",
      "Error: 43.63739340140554\n"
     ]
    }
   ],
   "source": [
    "from sklearn.metrics import mean_absolute_error\n",
    "\n",
    "X = data[['age_worker', 'projects_month', 'hours_project', 'sick_days']]\n",
    "y = data['pay']\n",
    "reg = LinearRegression().fit(X, y)\n",
    "print(f'Weights: {reg.coef_}')\n",
    "print(f'Bias: {reg.intercept_}')\n",
    "\n",
    "pred_values = reg.predict(data[['age_worker', 'projects_month', 'hours_project', 'sick_days']])\n",
    "print(f'Error: {mean_absolute_error(pred_values, y)}')"
   ]
  },
  {
   "cell_type": "markdown",
   "metadata": {},
   "source": [
    "Мы видим, что ошибка равна 45.6. Это в среднем около 10% от зарплаты сотрудников, а в некоторых случаях и все 40%. Ошибка довольно таки большая, так что мы попробуем улучшить модель. \n",
    "\n",
    "Будем считать, что больничные никак не влияют на зарплату сотрудника, раз он не работает в эти дни."
   ]
  },
  {
   "cell_type": "code",
   "execution_count": 4,
   "metadata": {},
   "outputs": [
    {
     "name": "stdout",
     "output_type": "stream",
     "text": [
      "Weights: [-1.07940888e-02  1.21051970e+02  1.47186201e+01]\n",
      "Bias: -341.1282900577841\n",
      "Error: 44.16794735725151\n"
     ]
    }
   ],
   "source": [
    "X = data[['age_worker', 'projects_month', 'hours_project']]\n",
    "y = data['pay']\n",
    "reg = LinearRegression().fit(X, y)\n",
    "print(f'Weights: {reg.coef_}')\n",
    "print(f'Bias: {reg.intercept_}')\n",
    "\n",
    "pred_values = reg.predict(data[['age_worker', 'projects_month', 'hours_project']])\n",
    "print(f'Error: {mean_absolute_error(pred_values, y)}')"
   ]
  },
  {
   "cell_type": "markdown",
   "metadata": {},
   "source": [
    "45.7 - ошибка увеличилась! Оказывается, что больничные все же как-то влияют на зарплату, сделаем новое предположение, что зарплата не зависит от возраста сотрудника."
   ]
  },
  {
   "cell_type": "code",
   "execution_count": 5,
   "metadata": {},
   "outputs": [
    {
     "name": "stdout",
     "output_type": "stream",
     "text": [
      "Weights: [120.95682994  14.83067024   3.34375024]\n",
      "Bias: -357.0242577175164\n",
      "Error: 43.646612764238235\n"
     ]
    }
   ],
   "source": [
    "X = data[['projects_month', 'hours_project', 'sick_days']]\n",
    "y = data['pay']\n",
    "reg = LinearRegression().fit(X, y)\n",
    "print(f'Weights: {reg.coef_}')\n",
    "print(f'Bias: {reg.intercept_}')\n",
    "\n",
    "pred_values = reg.predict(data[['projects_month', 'hours_project', 'sick_days']])\n",
    "print(f'Error: {mean_absolute_error(pred_values, y)}')"
   ]
  },
  {
   "cell_type": "markdown",
   "metadata": {},
   "source": [
    "Ошибка уменьшилась, но незначительно. В таком случае мы попытаемся уменьшить ошибку за счёт объединения нескольких прихнаков. Скорее всего сотрудникам платит за время, которое онм провели за рабочими проектами. Чтобы посчитать общее время работы за месяц, мы умножим среднее количество часов потраченных на проект, на количество проектов сделанных за месяц."
   ]
  },
  {
   "cell_type": "code",
   "execution_count": 12,
   "metadata": {},
   "outputs": [
    {
     "data": {
      "text/html": [
       "<div>\n",
       "<style scoped>\n",
       "    .dataframe tbody tr th:only-of-type {\n",
       "        vertical-align: middle;\n",
       "    }\n",
       "\n",
       "    .dataframe tbody tr th {\n",
       "        vertical-align: top;\n",
       "    }\n",
       "\n",
       "    .dataframe thead th {\n",
       "        text-align: right;\n",
       "    }\n",
       "</style>\n",
       "<table border=\"1\" class=\"dataframe\">\n",
       "  <thead>\n",
       "    <tr style=\"text-align: right;\">\n",
       "      <th></th>\n",
       "      <th>age_worker</th>\n",
       "      <th>projects_month</th>\n",
       "      <th>hours_project</th>\n",
       "      <th>sick_days</th>\n",
       "      <th>pay</th>\n",
       "      <th>hours_total</th>\n",
       "    </tr>\n",
       "  </thead>\n",
       "  <tbody>\n",
       "    <tr>\n",
       "      <th>0</th>\n",
       "      <td>60</td>\n",
       "      <td>4</td>\n",
       "      <td>23</td>\n",
       "      <td>7</td>\n",
       "      <td>477.5</td>\n",
       "      <td>92</td>\n",
       "    </tr>\n",
       "    <tr>\n",
       "      <th>1</th>\n",
       "      <td>32</td>\n",
       "      <td>1</td>\n",
       "      <td>23</td>\n",
       "      <td>6</td>\n",
       "      <td>130.0</td>\n",
       "      <td>23</td>\n",
       "    </tr>\n",
       "    <tr>\n",
       "      <th>2</th>\n",
       "      <td>29</td>\n",
       "      <td>2</td>\n",
       "      <td>38</td>\n",
       "      <td>2</td>\n",
       "      <td>385.0</td>\n",
       "      <td>76</td>\n",
       "    </tr>\n",
       "    <tr>\n",
       "      <th>3</th>\n",
       "      <td>53</td>\n",
       "      <td>4</td>\n",
       "      <td>32</td>\n",
       "      <td>3</td>\n",
       "      <td>647.5</td>\n",
       "      <td>128</td>\n",
       "    </tr>\n",
       "    <tr>\n",
       "      <th>4</th>\n",
       "      <td>34</td>\n",
       "      <td>5</td>\n",
       "      <td>14</td>\n",
       "      <td>4</td>\n",
       "      <td>360.0</td>\n",
       "      <td>70</td>\n",
       "    </tr>\n",
       "  </tbody>\n",
       "</table>\n",
       "</div>"
      ],
      "text/plain": [
       "   age_worker  projects_month  hours_project  sick_days    pay  hours_total\n",
       "0          60               4             23          7  477.5           92\n",
       "1          32               1             23          6  130.0           23\n",
       "2          29               2             38          2  385.0           76\n",
       "3          53               4             32          3  647.5          128\n",
       "4          34               5             14          4  360.0           70"
      ]
     },
     "execution_count": 12,
     "metadata": {},
     "output_type": "execute_result"
    }
   ],
   "source": [
    "# создаем новый признак\n",
    "data['hours_total'] = data['projects_month'] * data['hours_project']\n",
    "data.head()"
   ]
  },
  {
   "cell_type": "code",
   "execution_count": 15,
   "metadata": {},
   "outputs": [
    {
     "name": "stdout",
     "output_type": "stream",
     "text": [
      "Weights: [4.99272007]\n",
      "Bias: 10.279893943717411\n",
      "Error: 4.152037493818267\n"
     ]
    }
   ],
   "source": [
    "X = data[['hours_total']]\n",
    "y = data['pay']\n",
    "reg = LinearRegression().fit(X, y)\n",
    "print(f'Weights: {reg.coef_}')\n",
    "print(f'Bias: {reg.intercept_}')\n",
    "\n",
    "pred_values = reg.predict(data[['hours_total']])\n",
    "print(f'Error: {mean_absolute_error(pred_values, y)}')"
   ]
  },
  {
   "cell_type": "markdown",
   "metadata": {},
   "source": [
    "Ошибка уменьшилась в 10 раз. Мы видим, что наше предположение было правильным и зарплата в основном зависит от общего количества рабочих часов. Однако ошибка всё еще довольно большая - 4.15. Вспомним наше наблюдение, что зарплата зависит в том числе и от количества больничных и добавим данный параметр в модель линейной регрессии.  "
   ]
  },
  {
   "cell_type": "code",
   "execution_count": 14,
   "metadata": {},
   "outputs": [
    {
     "name": "stdout",
     "output_type": "stream",
     "text": [
      "Weights: [5.  2.5]\n",
      "Bias: 3.410605131648481e-13\n",
      "Error: 1.573994268255774e-13\n"
     ]
    }
   ],
   "source": [
    "X = data[['hours_total', 'sick_days']]\n",
    "y = data['pay']\n",
    "reg = LinearRegression().fit(X, y)\n",
    "print(f'Weights: {reg.coef_}')\n",
    "print(f'Bias: {reg.intercept_}')\n",
    "\n",
    "pred_values = reg.predict(data[['hours_total', 'sick_days']])\n",
    "print(f'Error: {mean_absolute_error(pred_values, y)}')"
   ]
  },
  {
   "cell_type": "markdown",
   "metadata": {},
   "source": [
    "Как мы и ожидали, ошибка уменьшилась до 0 и наша модель теперь точно предсказывает зарплату сотрудника исходя из вводных данных."
   ]
  },
  {
   "cell_type": "code",
   "execution_count": null,
   "metadata": {},
   "outputs": [],
   "source": []
  }
 ],
 "metadata": {
  "kernelspec": {
   "display_name": "Python 3",
   "language": "python",
   "name": "python3"
  },
  "language_info": {
   "codemirror_mode": {
    "name": "ipython",
    "version": 3
   },
   "file_extension": ".py",
   "mimetype": "text/x-python",
   "name": "python",
   "nbconvert_exporter": "python",
   "pygments_lexer": "ipython3",
   "version": "3.7.0"
  }
 },
 "nbformat": 4,
 "nbformat_minor": 2
}
