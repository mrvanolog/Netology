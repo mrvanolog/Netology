{
 "cells": [
  {
   "cell_type": "markdown",
   "metadata": {},
   "source": [
    "**Задание 1.**\n",
    "Даны 2 строки long_phrase и short_phrase. Напишите код, который проверяет действительно ли длинная фраза long_phrase длиннее короткой short_phrase. И выводит True или False в зависимости от результата сравнения."
   ]
  },
  {
   "cell_type": "code",
   "execution_count": 3,
   "metadata": {},
   "outputs": [
    {
     "name": "stdout",
     "output_type": "stream",
     "text": [
      "True\n"
     ]
    }
   ],
   "source": [
    "long_phrase = 'Насколько проще было бы писать программы, если бы не заказчики'\n",
    "short_phrase = '640Кб должно хватить для любых задач. Билл Гейтс (по легенде)'\n",
    "\n",
    "print(len(long_phrase) > len(short_phrase))"
   ]
  },
  {
   "cell_type": "markdown",
   "metadata": {},
   "source": [
    "**Задание 2.** Дано значение объема файла в байтах. Напишите перевод этого значения в мегабайты в формате:\n",
    "‘Объем файла равен 213.68Mb’"
   ]
  },
  {
   "cell_type": "code",
   "execution_count": 10,
   "metadata": {},
   "outputs": [
    {
     "name": "stdout",
     "output_type": "stream",
     "text": [
      "Введите объем фала в байтах: 76543456786\n",
      "Объем файла равен 72997.52882575989Mb\n"
     ]
    }
   ],
   "source": [
    "length = int(input('Введите объем фала в байтах: '))\n",
    "\n",
    "print('Объем файла равен ', length/1024**2, 'Mb', sep='')"
   ]
  },
  {
   "cell_type": "markdown",
   "metadata": {},
   "source": [
    "**Задание 3.** Разработать приложение для определения знака зодиака по дате рождения."
   ]
  },
  {
   "cell_type": "code",
   "execution_count": 5,
   "metadata": {},
   "outputs": [
    {
     "name": "stdout",
     "output_type": "stream",
     "text": [
      "Введите месяц: ноябрь\n",
      "Введите число: 24\n",
      "Стрелец\n"
     ]
    }
   ],
   "source": [
    "m = input('Введите месяц: ')\n",
    "d = int(input('Введите число: '))\n",
    "\n",
    "if(m == 'март' and d > 18 or m == 'апрель' and d < 19):\n",
    "    print('Овен')\n",
    "elif(m == 'апрель' and d > 19 or m == 'май' and d < 21):\n",
    "    print('Телец')\n",
    "elif(m == 'май' and d > 20 or m == 'июнь' and d < 22):\n",
    "    print('Близнецы')\n",
    "elif(m == 'июнь' and d > 21 or m == 'июль' and d < 21):\n",
    "    print('Рак')\n",
    "elif(m == 'июль' and d > 22 or m == 'август' and d < 23):\n",
    "    print('Лев')\n",
    "elif(m == 'август' and d > 22 or m == 'снтябрь' and d < 23):\n",
    "    print('Дева')\n",
    "elif(m == 'сентябрь' and d > 22 or m == 'октябрь' and d < 24):\n",
    "    print('Весы')\n",
    "elif(m == 'октябрь' and d > 23 or m == 'ноябрь' and d < 23):\n",
    "    print('Скорпион')\n",
    "elif(m == 'ноябрь' and d > 22 or m == 'декабрь' and d < 22):\n",
    "    print('Стрелец')\n",
    "elif(m == 'декабрь' and d > 21 or m == 'январь' and d < 21):\n",
    "    print('Козерог')\n",
    "elif(m == 'январь' and d > 20 or m == 'февраль' and d < 19):\n",
    "    print('Водолей')\n",
    "else:\n",
    "    print('Рыбы')"
   ]
  },
  {
   "cell_type": "markdown",
   "metadata": {},
   "source": [
    "**Задание 4.** Нужно разработать приложение для финансового планирования.\n",
    "Приложение учитывает сколько уходит на ипотеку, “на жизнь” и сколько нужно отложить на пенсию.\n",
    "Пользователь вводит заработанную плату в месяц.\n",
    "Сколько процентов от зп уходит на ипотеку.\n",
    "Сколько процентов от зп уходит “на жизнь”.\n",
    "Сколько раз приходит премия в год.\n",
    "Остальная часть заработанной платы откладывается на пенсию.\n",
    "Также пользователю приходит премия в размере зарплаты, от которой половина уходит на отпуск, а вторая половина откладывается.\n",
    "Программа должна учитывать сколько премий было в год.\n",
    "Нужно вывести сколько денег тратит пользователь на ипотеку и сколько он накопит за год."
   ]
  },
  {
   "cell_type": "code",
   "execution_count": 11,
   "metadata": {},
   "outputs": [
    {
     "name": "stdout",
     "output_type": "stream",
     "text": [
      "Введите заработанную плату в месяц: 100000\n",
      "Введите сколько процентов уходит на ипотеку: 30\n",
      "Введите сколько процентов уходит на жизнь: 50\n",
      "Введите количество премий за год: 2\n",
      "На ипотеку было потрачено: 360000.0\n",
      "Было накоплено: 240001.0\n"
     ]
    }
   ],
   "source": [
    "wage = int(input('Введите заработанную плату в месяц: '))\n",
    "ipo = int(input('Введите сколько процентов уходит на ипотеку: '))\n",
    "life = int(input('Введите сколько процентов уходит на жизнь: '))\n",
    "bonus = int(input('Введите количество премий за год: '))\n",
    "\n",
    "savings = wage * 12 * (100 - ipo - life) / 100 + 0.5 * bonus\n",
    "ipo_tot = wage * 12 * ipo / 100\n",
    "\n",
    "print('На ипотеку было потрачено: ', ipo_tot, sep='')\n",
    "print('Было накоплено: ', savings, sep='')"
   ]
  },
  {
   "cell_type": "code",
   "execution_count": null,
   "metadata": {},
   "outputs": [],
   "source": []
  }
 ],
 "metadata": {
  "kernelspec": {
   "display_name": "Python 3",
   "language": "python",
   "name": "python3"
  },
  "language_info": {
   "codemirror_mode": {
    "name": "ipython",
    "version": 3
   },
   "file_extension": ".py",
   "mimetype": "text/x-python",
   "name": "python",
   "nbconvert_exporter": "python",
   "pygments_lexer": "ipython3",
   "version": "3.7.0"
  }
 },
 "nbformat": 4,
 "nbformat_minor": 2
}
