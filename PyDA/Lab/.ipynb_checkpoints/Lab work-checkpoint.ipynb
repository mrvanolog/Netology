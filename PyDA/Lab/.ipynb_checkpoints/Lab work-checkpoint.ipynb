{
 "cells": [
  {
   "cell_type": "markdown",
   "metadata": {},
   "source": [
    "**Задание 1**"
   ]
  },
  {
   "cell_type": "code",
   "execution_count": 18,
   "metadata": {},
   "outputs": [
    {
     "name": "stdout",
     "output_type": "stream",
     "text": [
      "Колличество символов в строке:  17\n",
      "Колличество слов в строке: 61\n"
     ]
    }
   ],
   "source": [
    "string_01 = '''Mama, just killed a man, put a gun against his head,\n",
    "pulled my trigger, now he's dead. Mama, life had just begun, but\n",
    "now I've gone and thrown it all away. Mama, ooh (any way the wind\n",
    "blows), didn't mean to make you cry. If I'm not back again this\n",
    "time tomorrow carry on, carry on as if nothing really matters.'''\n",
    "counter = 0\n",
    "\n",
    "# посчитать количество символов в строке\n",
    "for char in string_01:\n",
    "    if char in '-.,\\n':\n",
    "            counter += 1\n",
    "\n",
    "print('Колличество символов в строке: ', counter)\n",
    "# удаляем все ненужные символы и оставляем только пробелы\n",
    "for char in '-.,()\\n':\n",
    "    string_01 = string_01.replace(char, ' ')\n",
    "    \n",
    "string_list = string_01.split()\n",
    "print('Колличество слов в строке:', len(string_list))"
   ]
  },
  {
   "cell_type": "code",
   "execution_count": 24,
   "metadata": {},
   "outputs": [
    {
     "name": "stdout",
     "output_type": "stream",
     "text": [
      "Введите последнюю букву слова: a\n",
      "Mama\n",
      "a\n",
      "a\n",
      "Mama\n",
      "Mama\n"
     ]
    }
   ],
   "source": [
    "last_letter = input('Введите последнюю букву слова: ')\n",
    "\n",
    "for word in string_list:\n",
    "        if word[-1] == last_letter:\n",
    "            print(word)"
   ]
  },
  {
   "cell_type": "code",
   "execution_count": 25,
   "metadata": {},
   "outputs": [
    {
     "name": "stdout",
     "output_type": "stream",
     "text": [
      "Введите первую букву слова: s\n"
     ]
    }
   ],
   "source": [
    "first_letter = input('Введите первую букву слова: ')\n",
    "\n",
    "for word in string_list:\n",
    "        if word[0] == first_letter:\n",
    "            print(word)"
   ]
  },
  {
   "cell_type": "markdown",
   "metadata": {},
   "source": [
    "**Задание 2**"
   ]
  },
  {
   "cell_type": "code",
   "execution_count": 52,
   "metadata": {},
   "outputs": [
    {
     "name": "stdout",
     "output_type": "stream",
     "text": [
      "387354\n"
     ]
    }
   ],
   "source": [
    "import random\n",
    "\n",
    "pos = random.randint(0, 5)\n",
    "val = str(random.randint(100000, 999999))\n",
    "val = val.replace(val[pos], '3')\n",
    "\n",
    "print(val)"
   ]
  },
  {
   "cell_type": "markdown",
   "metadata": {},
   "source": [
    "**Задание 3**"
   ]
  },
  {
   "cell_type": "code",
   "execution_count": 53,
   "metadata": {},
   "outputs": [
    {
     "name": "stdout",
     "output_type": "stream",
     "text": [
      "212\n"
     ]
    }
   ],
   "source": [
    "list_01 = [1, 1, 2, 3, 5, 8, 13, 21, 34, 55, 89, 144, 233, 377, 610]\n",
    "\n",
    "sum_ = 0\n",
    "\n",
    "for num in list_01:\n",
    "    if num > 10 and num < 100:\n",
    "        sum_ += num\n",
    "\n",
    "print(sum_)"
   ]
  },
  {
   "cell_type": "markdown",
   "metadata": {},
   "source": [
    "**Задание 4**"
   ]
  },
  {
   "cell_type": "code",
   "execution_count": 55,
   "metadata": {},
   "outputs": [],
   "source": [
    "students = [\n",
    " [\"0001\", \"Антонов\", \"Антон\", \"Игоревич\", \"20.08.2009\",\n",
    "\"БСТ161\"],\n",
    " [\"1102\", \"Богов\", \"Артем\", \"Игоревич\", \"25.01.2010\",\n",
    "\"БСТ162\"],\n",
    " [\"0333\", \"Глаголева\", \"Анастасия\", \"Николаевна\",\n",
    "\"11.07.2009\", \"БСТ163\"],\n",
    " [\"4004\", \"Степанова\", \"Наталья\", \"Александровна\",\n",
    "\"13.02.2008\", \"БСТ161\"],\n",
    " [\"0045\", \"Боков\", \"Игорь\", \"Харитонович\", \"02.06.2009\",\n",
    "\"БСТ161\"],\n",
    " [\"0096\", \"Васильков\", \"Валентин\", \"Сергеевич\", \"20.03.2009\",\n",
    "\"БСТ164\"],\n",
    " [\"0607\", \"Сиропова\", \"Виолетта\", \"Эдуардовна\", \"28.05.2010\",\n",
    "\"БСТ162\"],\n",
    " [\"0309\", \"Шафутинский\", \"Михаил\", \"Михайлович\",\n",
    "\"03.09.2007\", \"БСТ163\"] ]"
   ]
  },
  {
   "cell_type": "code",
   "execution_count": 65,
   "metadata": {},
   "outputs": [
    {
     "data": {
      "text/plain": [
       "{'0001': ['Антонов', 'Антон', 'Игоревич', '20.08.2009', 'БСТ161'],\n",
       " '1102': ['Богов', 'Артем', 'Игоревич', '25.01.2010', 'БСТ162'],\n",
       " '0333': ['Глаголева', 'Анастасия', 'Николаевна', '11.07.2009', 'БСТ163'],\n",
       " '4004': ['Степанова', 'Наталья', 'Александровна', '13.02.2008', 'БСТ161'],\n",
       " '0045': ['Боков', 'Игорь', 'Харитонович', '02.06.2009', 'БСТ161'],\n",
       " '0096': ['Васильков', 'Валентин', 'Сергеевич', '20.03.2009', 'БСТ164'],\n",
       " '0607': ['Сиропова', 'Виолетта', 'Эдуардовна', '28.05.2010', 'БСТ162'],\n",
       " '0309': ['Шафутинский', 'Михаил', 'Михайлович', '03.09.2007', 'БСТ163']}"
      ]
     },
     "execution_count": 65,
     "metadata": {},
     "output_type": "execute_result"
    }
   ],
   "source": [
    "students_dict = {}\n",
    "\n",
    "for student in students:\n",
    "    students_dict.update({student[0] : student[1:]})\n",
    "    \n",
    "students_dict"
   ]
  },
  {
   "cell_type": "code",
   "execution_count": 66,
   "metadata": {},
   "outputs": [
    {
     "data": {
      "text/plain": [
       "{'0001': ['Антонов', 'Антон', 'Игоревич', '20.08.2009', 'БСТ163'],\n",
       " '1102': ['Богов', 'Артем', 'Игоревич', '25.01.2010', 'БСТ162'],\n",
       " '0333': ['Глаголева', 'Анастасия', 'Николаевна', '11.07.2009', 'БСТ163'],\n",
       " '4004': ['Степанова', 'Наталья', 'Александровна', '13.02.2008', 'БСТ161'],\n",
       " '0045': ['Боков', 'Игорь', 'Харитонович', '02.06.2009', 'БСТ161'],\n",
       " '0096': ['Васильков', 'Валентин', 'Сергеевич', '20.03.2009', 'БСТ164'],\n",
       " '0607': ['Сиропова', 'Виолетта', 'Эдуардовна', '28.05.2010', 'БСТ162'],\n",
       " '0309': ['Шафутинский', 'Михаил', 'Михайлович', '03.09.2007', 'БСТ163']}"
      ]
     },
     "execution_count": 66,
     "metadata": {},
     "output_type": "execute_result"
    }
   ],
   "source": [
    "def update_group(std_n, grp_n):\n",
    "    students_dict[std_n][-1] = grp_n\n",
    "    return None\n",
    "\n",
    "update_group('0001', 'БСТ163')\n",
    "\n",
    "students_dict"
   ]
  },
  {
   "cell_type": "code",
   "execution_count": 68,
   "metadata": {},
   "outputs": [
    {
     "name": "stdout",
     "output_type": "stream",
     "text": [
      "Антонов Антон Игоревич\n",
      "Глаголева Анастасия Николаевна\n",
      "Шафутинский Михаил Михайлович\n"
     ]
    }
   ],
   "source": [
    "def fio_group(grp_n):\n",
    "    for student in students_dict.values():\n",
    "        if student[-1] == grp_n:\n",
    "            print(student[0], student[1], student[2])\n",
    "            \n",
    "fio_group('БСТ163')"
   ]
  },
  {
   "cell_type": "markdown",
   "metadata": {},
   "source": [
    "**Задание 4**"
   ]
  },
  {
   "cell_type": "code",
   "execution_count": 72,
   "metadata": {},
   "outputs": [
    {
     "data": {
      "text/plain": [
       "89"
      ]
     },
     "execution_count": 72,
     "metadata": {},
     "output_type": "execute_result"
    }
   ],
   "source": [
    "import numpy as np\n",
    "\n",
    "matrix = [\n",
    "[0, 1, 2, 4, 8],\n",
    "[6, 2, 2, 1, 9],\n",
    "[3, 3, 3, 3, 3],\n",
    "[4, 6, 7, 1, 2],\n",
    "[5, 7, 3, 4, 0] ]\n",
    "\n",
    "sum_ = np.sum(matrix)\n",
    "\n",
    "sum_"
   ]
  },
  {
   "cell_type": "code",
   "execution_count": 79,
   "metadata": {},
   "outputs": [
    {
     "name": "stdout",
     "output_type": "stream",
     "text": [
      "22\n"
     ]
    }
   ],
   "source": [
    "sum_ = np.sum(matrix, axis=0)\n",
    "print(max(sum_))"
   ]
  }
 ],
 "metadata": {
  "kernelspec": {
   "display_name": "Python 3",
   "language": "python",
   "name": "python3"
  },
  "language_info": {
   "codemirror_mode": {
    "name": "ipython",
    "version": 3
   },
   "file_extension": ".py",
   "mimetype": "text/x-python",
   "name": "python",
   "nbconvert_exporter": "python",
   "pygments_lexer": "ipython3",
   "version": "3.7.0"
  }
 },
 "nbformat": 4,
 "nbformat_minor": 2
}
