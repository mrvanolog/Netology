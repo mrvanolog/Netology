{
 "cells": [
  {
   "cell_type": "markdown",
   "metadata": {},
   "source": [
    "## Задание 1"
   ]
  },
  {
   "cell_type": "markdown",
   "metadata": {},
   "source": [
    "Дан список вида:"
   ]
  },
  {
   "cell_type": "code",
   "execution_count": 1,
   "metadata": {},
   "outputs": [
    {
     "data": {
      "text/plain": [
       "103"
      ]
     },
     "execution_count": 1,
     "metadata": {},
     "output_type": "execute_result"
    }
   ],
   "source": [
    "data = [\n",
    "    [13, 25, 23, 34],\n",
    "    [45, 32, 44, 47],\n",
    "    [12, 33, 23, 95],\n",
    "    [13, 53, 34, 35]\n",
    "]\n",
    "\n",
    "def trace(data):\n",
    "    '''\n",
    "    Возвращает сумму элементов на диагонали.\n",
    "    Работает только с квадратными матрицами.\n",
    "    '''\n",
    "    sum = 0\n",
    "    for i in range(len(data)):\n",
    "        sum += data[i][i]\n",
    "    \n",
    "    return sum\n",
    "\n",
    "trace(data)        "
   ]
  },
  {
   "cell_type": "markdown",
   "metadata": {},
   "source": [
    "Напишите функцию, которая возвращает сумму элементов на диагонали. Т. е. 13+32+23+35."
   ]
  },
  {
   "cell_type": "markdown",
   "metadata": {},
   "source": [
    "## Задание 2"
   ]
  },
  {
   "cell_type": "markdown",
   "metadata": {},
   "source": [
    "Дан список чисел, часть из которых имеют строковый тип или содержат буквы. Напишите функцию, которая возвращает сумму квадратов элементов, которые могут быть числами."
   ]
  },
  {
   "cell_type": "code",
   "execution_count": 2,
   "metadata": {},
   "outputs": [
    {
     "data": {
      "text/plain": [
       "430"
      ]
     },
     "execution_count": 2,
     "metadata": {},
     "output_type": "execute_result"
    }
   ],
   "source": [
    "data = [1, '5', 'abc', 20, '2']\n",
    "\n",
    "def square_sum(data):\n",
    "    sum = 0\n",
    "    for val in data:\n",
    "        if type(val) == int or val.isdigit():\n",
    "            sum += int(val)**2\n",
    "    \n",
    "    return(sum)\n",
    "\n",
    "square_sum(data)"
   ]
  },
  {
   "cell_type": "markdown",
   "metadata": {},
   "source": [
    "## Задание 3"
   ]
  },
  {
   "cell_type": "markdown",
   "metadata": {},
   "source": [
    "Напишите функцию, возвращающую сумму первых n чисел Фибоначчи."
   ]
  },
  {
   "cell_type": "code",
   "execution_count": 3,
   "metadata": {},
   "outputs": [],
   "source": [
    "def fibonacci_sum(n):\n",
    "    sum = 0\n",
    "    a = 1\n",
    "    b = 1\n",
    "    \n",
    "    for i in range(n):\n",
    "        sum += a\n",
    "        \n",
    "        c = b\n",
    "        b = b + a\n",
    "        a = c\n",
    "    \n",
    "    return sum"
   ]
  },
  {
   "cell_type": "markdown",
   "metadata": {},
   "source": [
    "## Задание 4"
   ]
  },
  {
   "cell_type": "markdown",
   "metadata": {},
   "source": [
    "Дан набор данных об обучении студентов на курсе программирования, который содержит: \n",
    "1) имя\n",
    "2) фамилию \n",
    "3) пол \n",
    "4) наличие у студента опыта в программировании \n",
    "5) набор оценок за домашние работы \n",
    "6) оценку за итоговую работу.\n",
    "\n",
    "Напишите программу, которая будет принимать команду от пользователя и возвращать соотвествующий результат.\n",
    "Список команд: \n",
    "1 - вывести на экран среднюю оценку за все ДЗ по группе и вывести на экран среднюю оценку за экзамен по группе;\n",
    "2 - вывести среднюю оценку за ДЗ и за экзамен по группе в разрезе пола студентов\n",
    "3 - вывести среднюю оценку за ДЗ и за экзамен в разрезе наличия опыта в программировании у студентов.\n",
    "\n",
    "Прогрмма должна быть полностью декомпозирована на функции (кроме объявления функций и вызова итоговой функции в реализации ничего быть не должно)."
   ]
  },
  {
   "cell_type": "code",
   "execution_count": 6,
   "metadata": {},
   "outputs": [],
   "source": [
    "students_list = [\n",
    "    {'name': 'Василий', 'surname': 'Теркин', 'sex': 'м', 'program_exp': True, 'grade': [8, 8, 9, 10, 9], 'exam': 9},\n",
    "    {'name': 'Мария', 'surname': 'Павлова', 'sex': 'ж', 'program_exp': True, 'grade': [7, 8, 9, 7, 9], 'exam': 8},\n",
    "    {'name': 'Ирина', 'surname': 'Андреева', 'sex': 'ж', 'program_exp': True, 'grade': [10, 9, 8, 10, 10], 'exam': 10},\n",
    "    {'name': 'Татьяна', 'surname': 'Сидорова', 'sex': 'ж', 'program_exp': True, 'grade': [7, 8, 8, 9, 8], 'exam': 8},\n",
    "    {'name': 'Иван', 'surname': 'Васильев', 'sex': 'ж', 'program_exp': True, 'grade': [9, 8, 9, 6, 9], 'exam': 10},\n",
    "    {'name': 'Роман', 'surname': 'Золотарев', 'sex': 'ж', 'program_exp': False, 'grade': [8, 9, 9, 6, 9], 'exam': 10}\n",
    "]"
   ]
  },
  {
   "cell_type": "code",
   "execution_count": 23,
   "metadata": {},
   "outputs": [],
   "source": [
    "def average(list):\n",
    "    return sum(list) / len(list)\n",
    "\n",
    "def grade_ave(list):\n",
    "    sum = 0\n",
    "    ctr = 0\n",
    "    for val in list:\n",
    "        sum += average(val['grade'])\n",
    "        ctr += 1\n",
    "    \n",
    "    return sum / ctr\n",
    "\n",
    "def exam_ave(list):\n",
    "    sum = 0\n",
    "    ctr = 0\n",
    "    for val in list:\n",
    "        sum += val['exam']\n",
    "        ctr += 1\n",
    "    \n",
    "    return sum / ctr\n",
    "\n",
    "def sex_list(list, sex):\n",
    "    new_list = []\n",
    "    for val in list:\n",
    "        if val['sex'] == sex:\n",
    "            new_list.append(val)\n",
    "    \n",
    "    return new_list\n",
    "\n",
    "def program_exp_list(list, program_exp):\n",
    "    new_list = []\n",
    "    for val in list:\n",
    "        if val['program_exp'] == program_exp:\n",
    "            new_list.append(val)\n",
    "    \n",
    "    return new_list\n",
    "\n",
    "def result(list, mode):\n",
    "    if mode == 1:\n",
    "        print(\"Grade average:\", grade_ave(list))\n",
    "        print(\"Exam average:\", exam_ave(list))\n",
    "        \n",
    "    elif mode == 2:\n",
    "        male_list = sex_list(list, 'м')\n",
    "        female_list = sex_list(list, 'ж')\n",
    "        \n",
    "        grade_ave_m = grade_ave(male_list)\n",
    "        exam_ave_m = exam_ave(male_list)\n",
    "        print(\"Male grade average:\", grade_ave_m)\n",
    "        print(\"Male exam average:\", exam_ave_m)\n",
    "        \n",
    "        grade_ave_f = grade_ave(female_list)\n",
    "        exam_ave_f = exam_ave(female_list)\n",
    "        print(\"Female grade average:\", grade_ave_f)\n",
    "        print(\"Female exam average:\", exam_ave_f)\n",
    "        \n",
    "    elif mode == 3:\n",
    "        e_list = program_exp_list(list, True)\n",
    "        ne_list = program_exp_list(list, False)\n",
    "        \n",
    "        grade_ave_e = grade_ave(e_list)\n",
    "        exam_ave_e = exam_ave(e_list)\n",
    "        print(\"Experienced grade average:\", grade_ave_e)\n",
    "        print(\"Experienced exam average:\", exam_ave_e)\n",
    "        \n",
    "        grade_ave_ne = grade_ave(ne_list)\n",
    "        exam_ave_ne = exam_ave(ne_list)\n",
    "        print(\"Non experienced grade average:\", grade_ave_ne)\n",
    "        print(\"Non experienced exam average:\", exam_ave_ne)\n",
    "    else:\n",
    "        print(\"Error! You've chosen incorrect mode!\")"
   ]
  },
  {
   "cell_type": "code",
   "execution_count": 29,
   "metadata": {},
   "outputs": [
    {
     "name": "stdout",
     "output_type": "stream",
     "text": [
      "Grade average: 8.433333333333335\n",
      "Exam average: 9.166666666666666\n"
     ]
    }
   ],
   "source": [
    "result(students_list, 1)     "
   ]
  }
 ],
 "metadata": {
  "kernelspec": {
   "display_name": "Python 3",
   "language": "python",
   "name": "python3"
  },
  "language_info": {
   "codemirror_mode": {
    "name": "ipython",
    "version": 3
   },
   "file_extension": ".py",
   "mimetype": "text/x-python",
   "name": "python",
   "nbconvert_exporter": "python",
   "pygments_lexer": "ipython3",
   "version": "3.7.0"
  }
 },
 "nbformat": 4,
 "nbformat_minor": 2
}
