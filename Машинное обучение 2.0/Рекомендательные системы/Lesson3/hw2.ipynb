{
 "cells": [
  {
   "cell_type": "code",
   "execution_count": 18,
   "metadata": {},
   "outputs": [],
   "source": [
    "from surprise import SVDpp\n",
    "from surprise import Dataset\n",
    "from surprise import accuracy\n",
    "from surprise import Reader\n",
    "from surprise.model_selection import KFold\n",
    "\n",
    "import pandas as pd\n",
    "import numpy as np"
   ]
  },
  {
   "cell_type": "code",
   "execution_count": 2,
   "metadata": {},
   "outputs": [],
   "source": [
    "movies = pd.read_csv('movies.dat', sep='::', engine='python', names=['movieId', 'title', 'genres'])\n",
    "ratings = pd.read_csv('ratings.dat', sep='::', engine='python', names=['userId', 'movieId', 'rating', 'timestamp'])"
   ]
  },
  {
   "cell_type": "code",
   "execution_count": 3,
   "metadata": {},
   "outputs": [
    {
     "data": {
      "text/html": [
       "<div>\n",
       "<style scoped>\n",
       "    .dataframe tbody tr th:only-of-type {\n",
       "        vertical-align: middle;\n",
       "    }\n",
       "\n",
       "    .dataframe tbody tr th {\n",
       "        vertical-align: top;\n",
       "    }\n",
       "\n",
       "    .dataframe thead th {\n",
       "        text-align: right;\n",
       "    }\n",
       "</style>\n",
       "<table border=\"1\" class=\"dataframe\">\n",
       "  <thead>\n",
       "    <tr style=\"text-align: right;\">\n",
       "      <th></th>\n",
       "      <th>userId</th>\n",
       "      <th>movieId</th>\n",
       "      <th>rating</th>\n",
       "      <th>timestamp</th>\n",
       "    </tr>\n",
       "  </thead>\n",
       "  <tbody>\n",
       "    <tr>\n",
       "      <th>0</th>\n",
       "      <td>1</td>\n",
       "      <td>1193</td>\n",
       "      <td>5</td>\n",
       "      <td>978300760</td>\n",
       "    </tr>\n",
       "    <tr>\n",
       "      <th>1</th>\n",
       "      <td>1</td>\n",
       "      <td>661</td>\n",
       "      <td>3</td>\n",
       "      <td>978302109</td>\n",
       "    </tr>\n",
       "    <tr>\n",
       "      <th>2</th>\n",
       "      <td>1</td>\n",
       "      <td>914</td>\n",
       "      <td>3</td>\n",
       "      <td>978301968</td>\n",
       "    </tr>\n",
       "    <tr>\n",
       "      <th>3</th>\n",
       "      <td>1</td>\n",
       "      <td>3408</td>\n",
       "      <td>4</td>\n",
       "      <td>978300275</td>\n",
       "    </tr>\n",
       "    <tr>\n",
       "      <th>4</th>\n",
       "      <td>1</td>\n",
       "      <td>2355</td>\n",
       "      <td>5</td>\n",
       "      <td>978824291</td>\n",
       "    </tr>\n",
       "  </tbody>\n",
       "</table>\n",
       "</div>"
      ],
      "text/plain": [
       "   userId  movieId  rating  timestamp\n",
       "0       1     1193       5  978300760\n",
       "1       1      661       3  978302109\n",
       "2       1      914       3  978301968\n",
       "3       1     3408       4  978300275\n",
       "4       1     2355       5  978824291"
      ]
     },
     "execution_count": 3,
     "metadata": {},
     "output_type": "execute_result"
    }
   ],
   "source": [
    "ratings.head()"
   ]
  },
  {
   "cell_type": "code",
   "execution_count": 4,
   "metadata": {},
   "outputs": [],
   "source": [
    "movies_with_ratings = movies.join(ratings.set_index('movieId'), on='movieId').reset_index(drop=True)\n",
    "movies_with_ratings.dropna(inplace=True)"
   ]
  },
  {
   "cell_type": "code",
   "execution_count": 5,
   "metadata": {},
   "outputs": [
    {
     "data": {
      "text/plain": [
       "array(['Get Shorty (1995)', 'Broken Arrow (1996)', 'Braveheart (1995)',\n",
       "       'Desperado (1995)', 'Die Hard: With a Vengeance (1995)',\n",
       "       'Ed Wood (1994)',\n",
       "       'Like Water for Chocolate (Como agua para chocolate) (1992)',\n",
       "       'Outbreak (1995)', 'Shawshank Redemption, The (1994)',\n",
       "       'Clear and Present Danger (1994)', 'Forrest Gump (1994)',\n",
       "       'Maverick (1994)', 'True Lies (1994)', 'Cliffhanger (1993)',\n",
       "       'Demolition Man (1993)', 'Fugitive, The (1993)',\n",
       "       'Getaway, The (1994)', 'Jurassic Park (1993)', 'Mr. Jones (1993)',\n",
       "       'Remains of the Day, The (1993)',\n",
       "       'Terminator 2: Judgment Day (1991)', 'Dances with Wolves (1990)',\n",
       "       'Silence of the Lambs, The (1991)', 'Courage Under Fire (1996)',\n",
       "       'Mission: Impossible (1996)', 'Twister (1996)',\n",
       "       'Independence Day (ID4) (1996)', \"Breakfast at Tiffany's (1961)\",\n",
       "       'Gone with the Wind (1939)', 'Picnic (1955)',\n",
       "       'Bonnie and Clyde (1967)', 'Platoon (1986)',\n",
       "       \"Sophie's Choice (1982)\", 'Rebel Without a Cause (1955)',\n",
       "       'On Golden Pond (1981)', 'Strictly Ballroom (1992)',\n",
       "       \"One Flew Over the Cuckoo's Nest (1975)\",\n",
       "       'Star Wars: Episode V - The Empire Strikes Back (1980)',\n",
       "       'Raiders of the Lost Ark (1981)', 'To Kill a Mockingbird (1962)',\n",
       "       'Star Wars: Episode VI - Return of the Jedi (1983)',\n",
       "       'GoodFellas (1990)', 'Ran (1985)', 'Amadeus (1984)',\n",
       "       'Manhattan (1979)', \"Miller's Crossing (1990)\",\n",
       "       'Dead Poets Society (1989)', 'Graduate, The (1967)',\n",
       "       'Day the Earth Stood Still, The (1951)', 'Stand by Me (1986)',\n",
       "       'Groundhog Day (1993)', 'Gandhi (1982)', 'Shine (1996)',\n",
       "       'Die Hard 2 (1990)',\n",
       "       'Star Trek VI: The Undiscovered Country (1991)',\n",
       "       'Under Siege (1992)', 'Last of the Mohicans, The (1992)',\n",
       "       'Prefontaine (1997)', 'Fifth Element, The (1997)',\n",
       "       'Shall We Dance? (Shall We Dansu?) (1996)',\n",
       "       'Lost World: Jurassic Park, The (1997)', 'Con Air (1997)',\n",
       "       'Conspiracy Theory (1997)', 'Hunt for Red October, The (1990)',\n",
       "       'Jackal, The (1997)', 'Alien: Resurrection (1997)',\n",
       "       'As Good As It Gets (1997)', 'U.S. Marshalls (1998)',\n",
       "       'Man in the Iron Mask, The (1998)', 'Spanish Prisoner, The (1997)',\n",
       "       'Misйrables, Les (1998)', 'Armageddon (1998)',\n",
       "       'On the Waterfront (1954)', 'French Connection, The (1971)',\n",
       "       'Rocky (1976)', 'Kramer Vs. Kramer (1979)',\n",
       "       'Chariots of Fire (1981)', 'Driving Miss Daisy (1989)',\n",
       "       'Breakfast Club, The (1985)', 'Lethal Weapon 3 (1992)',\n",
       "       'Mask of Zorro, The (1998)', 'Saving Private Ryan (1998)',\n",
       "       'Doctor Zhivago (1965)', 'Snake Eyes (1998)',\n",
       "       'Untouchables, The (1987)', 'Simon Birch (1998)',\n",
       "       'Few Good Men, A (1992)', 'Ronin (1998)',\n",
       "       'Children of a Lesser God (1986)', 'Pleasantville (1998)',\n",
       "       'Enemy of the State (1998)', 'Waking Ned Devine (1998)',\n",
       "       'Shakespeare in Love (1998)', 'Thin Red Line, The (1998)',\n",
       "       'Payback (1999)', 'October Sky (1999)', 'Matrix, The (1999)',\n",
       "       'Star Wars: Episode I - The Phantom Menace (1999)',\n",
       "       'Ghostbusters II (1989)', 'Spartacus (1960)',\n",
       "       \"Soldier's Story, A (1984)\", 'American Beauty (1999)',\n",
       "       'Double Jeopardy (1999)', 'Total Recall (1990)',\n",
       "       'Indochine (1992)', 'Yojimbo (1961)', 'Mister Roberts (1955)',\n",
       "       'Verdict, The (1982)', 'Stand and Deliver (1987)',\n",
       "       'Grapes of Wrath, The (1940)', 'Awakenings (1990)',\n",
       "       'Backdraft (1991)', 'Fisher King, The (1991)',\n",
       "       'Green Mile, The (1999)', 'League of Their Own, A (1992)',\n",
       "       'Patriot Games (1992)', 'Bodyguard, The (1992)',\n",
       "       'Key Largo (1948)', 'Thelma & Louise (1991)',\n",
       "       \"Guess Who's Coming to Dinner (1967)\", 'Hustler, The (1961)',\n",
       "       'Close Encounters of the Third Kind (1977)', 'Gladiator (2000)',\n",
       "       'Guns of Navarone, The (1961)',\n",
       "       'Man with the Golden Arm, The (1955)', 'Starman (1984)',\n",
       "       'Serpico (1973)', 'What About Bob? (1991)', 'Nurse Betty (2000)'],\n",
       "      dtype=object)"
      ]
     },
     "execution_count": 5,
     "metadata": {},
     "output_type": "execute_result"
    }
   ],
   "source": [
    "movies_with_ratings[movies_with_ratings.userId == 2.0].title.unique()"
   ]
  },
  {
   "cell_type": "code",
   "execution_count": 6,
   "metadata": {},
   "outputs": [],
   "source": [
    "dataset = pd.DataFrame({\n",
    "    'uid': movies_with_ratings.userId,\n",
    "    'iid': movies_with_ratings.title,\n",
    "    'rating': movies_with_ratings.rating\n",
    "})"
   ]
  },
  {
   "cell_type": "code",
   "execution_count": 7,
   "metadata": {},
   "outputs": [
    {
     "data": {
      "text/html": [
       "<div>\n",
       "<style scoped>\n",
       "    .dataframe tbody tr th:only-of-type {\n",
       "        vertical-align: middle;\n",
       "    }\n",
       "\n",
       "    .dataframe tbody tr th {\n",
       "        vertical-align: top;\n",
       "    }\n",
       "\n",
       "    .dataframe thead th {\n",
       "        text-align: right;\n",
       "    }\n",
       "</style>\n",
       "<table border=\"1\" class=\"dataframe\">\n",
       "  <thead>\n",
       "    <tr style=\"text-align: right;\">\n",
       "      <th></th>\n",
       "      <th>uid</th>\n",
       "      <th>iid</th>\n",
       "      <th>rating</th>\n",
       "    </tr>\n",
       "  </thead>\n",
       "  <tbody>\n",
       "    <tr>\n",
       "      <th>0</th>\n",
       "      <td>1.0</td>\n",
       "      <td>Toy Story (1995)</td>\n",
       "      <td>5.0</td>\n",
       "    </tr>\n",
       "    <tr>\n",
       "      <th>1</th>\n",
       "      <td>6.0</td>\n",
       "      <td>Toy Story (1995)</td>\n",
       "      <td>4.0</td>\n",
       "    </tr>\n",
       "    <tr>\n",
       "      <th>2</th>\n",
       "      <td>8.0</td>\n",
       "      <td>Toy Story (1995)</td>\n",
       "      <td>4.0</td>\n",
       "    </tr>\n",
       "    <tr>\n",
       "      <th>3</th>\n",
       "      <td>9.0</td>\n",
       "      <td>Toy Story (1995)</td>\n",
       "      <td>5.0</td>\n",
       "    </tr>\n",
       "    <tr>\n",
       "      <th>4</th>\n",
       "      <td>10.0</td>\n",
       "      <td>Toy Story (1995)</td>\n",
       "      <td>5.0</td>\n",
       "    </tr>\n",
       "  </tbody>\n",
       "</table>\n",
       "</div>"
      ],
      "text/plain": [
       "    uid               iid  rating\n",
       "0   1.0  Toy Story (1995)     5.0\n",
       "1   6.0  Toy Story (1995)     4.0\n",
       "2   8.0  Toy Story (1995)     4.0\n",
       "3   9.0  Toy Story (1995)     5.0\n",
       "4  10.0  Toy Story (1995)     5.0"
      ]
     },
     "execution_count": 7,
     "metadata": {},
     "output_type": "execute_result"
    }
   ],
   "source": [
    "dataset.head()"
   ]
  },
  {
   "cell_type": "code",
   "execution_count": 8,
   "metadata": {},
   "outputs": [
    {
     "data": {
      "text/plain": [
       "1"
      ]
     },
     "execution_count": 8,
     "metadata": {},
     "output_type": "execute_result"
    }
   ],
   "source": [
    "ratings.rating.min()"
   ]
  },
  {
   "cell_type": "code",
   "execution_count": 9,
   "metadata": {},
   "outputs": [
    {
     "data": {
      "text/plain": [
       "5"
      ]
     },
     "execution_count": 9,
     "metadata": {},
     "output_type": "execute_result"
    }
   ],
   "source": [
    "ratings.rating.max()"
   ]
  },
  {
   "cell_type": "code",
   "execution_count": 10,
   "metadata": {},
   "outputs": [],
   "source": [
    "reader = Reader(rating_scale=(0.5, 5.0))\n",
    "data = Dataset.load_from_df(dataset, reader)"
   ]
  },
  {
   "cell_type": "code",
   "execution_count": 11,
   "metadata": {},
   "outputs": [],
   "source": [
    "algo = SVDpp()"
   ]
  },
  {
   "cell_type": "code",
   "execution_count": 14,
   "metadata": {},
   "outputs": [],
   "source": [
    "kf = KFold(n_splits=2, random_state=42, shuffle=True)"
   ]
  },
  {
   "cell_type": "code",
   "execution_count": 15,
   "metadata": {},
   "outputs": [
    {
     "name": "stdout",
     "output_type": "stream",
     "text": [
      "Fold 0:\n",
      "RMSE: 0.8858\n",
      "Fold 0:\n",
      "RMSE: 0.8847\n"
     ]
    }
   ],
   "source": [
    "algo = SVDpp()\n",
    "i = 0\n",
    "acc = []\n",
    "for trainset, testset in kf.split(data):\n",
    "    algo.fit(trainset)\n",
    "    test_pred = algo.test(testset)\n",
    "    print(f'Fold {i}:')\n",
    "    a = accuracy.rmse(test_pred, verbose=True)\n",
    "    acc.append(a)"
   ]
  },
  {
   "cell_type": "code",
   "execution_count": 20,
   "metadata": {},
   "outputs": [
    {
     "name": "stdout",
     "output_type": "stream",
     "text": [
      "0.8852870255107852\n"
     ]
    }
   ],
   "source": [
    "mean_acc = np.mean(acc)\n",
    "print(mean_acc)"
   ]
  },
  {
   "cell_type": "code",
   "execution_count": null,
   "metadata": {},
   "outputs": [],
   "source": []
  }
 ],
 "metadata": {
  "kernelspec": {
   "display_name": "Python 3",
   "language": "python",
   "name": "python3"
  },
  "language_info": {
   "codemirror_mode": {
    "name": "ipython",
    "version": 3
   },
   "file_extension": ".py",
   "mimetype": "text/x-python",
   "name": "python",
   "nbconvert_exporter": "python",
   "pygments_lexer": "ipython3",
   "version": "3.6.5"
  }
 },
 "nbformat": 4,
 "nbformat_minor": 4
}
