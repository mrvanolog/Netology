{
 "cells": [
  {
   "cell_type": "code",
   "execution_count": 53,
   "metadata": {},
   "outputs": [],
   "source": [
    "from sklearn.datasets import load_iris\n",
    "from sklearn.model_selection import train_test_split\n",
    "from sklearn.linear_model import LinearRegression\n",
    "from sklearn import metrics\n",
    "import matplotlib.pyplot as plt\n",
    "import numpy as np\n",
    "import pandas as pd\n",
    "%matplotlib inline\n",
    "\n",
    "from jupyterthemes import jtplot\n",
    "jtplot.style()"
   ]
  },
  {
   "cell_type": "code",
   "execution_count": 5,
   "metadata": {},
   "outputs": [],
   "source": [
    "from sklearn.datasets import load_boston"
   ]
  },
  {
   "cell_type": "code",
   "execution_count": 6,
   "metadata": {},
   "outputs": [],
   "source": [
    "boston = load_boston()"
   ]
  },
  {
   "cell_type": "code",
   "execution_count": 13,
   "metadata": {},
   "outputs": [],
   "source": [
    "X = boston.data\n",
    "y = boston.target"
   ]
  },
  {
   "cell_type": "code",
   "execution_count": 23,
   "metadata": {},
   "outputs": [],
   "source": [
    "from sklearn.metrics import mean_squared_error, r2_score"
   ]
  },
  {
   "cell_type": "code",
   "execution_count": 33,
   "metadata": {},
   "outputs": [
    {
     "name": "stdout",
     "output_type": "stream",
     "text": [
      "№0\n",
      "  MSE: 32.06\n",
      "   R2: 0.68\n",
      "№1\n",
      "  MSE: 23.62\n",
      "   R2: 0.67\n",
      "№2\n",
      "  MSE: 22.35\n",
      "   R2: 0.73\n",
      "№3\n",
      "  MSE: 23.96\n",
      "   R2: 0.75\n",
      "№4\n",
      "  MSE: 21.9\n",
      "   R2: 0.78\n",
      "№5\n",
      "  MSE: 22.1\n",
      "   R2: 0.68\n",
      "№6\n",
      "  MSE: 23.65\n",
      "   R2: 0.76\n",
      "№7\n",
      "  MSE: 23.65\n",
      "   R2: 0.7\n",
      "№8\n",
      "  MSE: 28.01\n",
      "   R2: 0.68\n",
      "№9\n",
      "  MSE: 23.62\n",
      "   R2: 0.67\n"
     ]
    }
   ],
   "source": [
    "for i in range(10):\n",
    "    rand_state = np.random.randint(100) # Генерация случайного числа для random state\n",
    "    X_train, X_test, y_train, y_test = train_test_split(X, y, random_state=rand_state) # Разбиение датасета на обучаемую и тестовую выборку\n",
    "    model = LinearRegression() \n",
    "    model.fit(X_train, y_train)\n",
    "    predictions = model.predict(X_test)\n",
    "    mse = mean_squared_error(y_test, predictions)\n",
    "    r2 = r2_score(y_test, predictions) \n",
    "    print('№{}\\n  MSE: {}\\n   R2: {}'.format(i, round(mse, 2), round(r2, 2)))"
   ]
  },
  {
   "cell_type": "code",
   "execution_count": 39,
   "metadata": {},
   "outputs": [
    {
     "name": "stdout",
     "output_type": "stream",
     "text": [
      "[ 0.73376082  0.4730725  -1.00631454  0.64113984  0.54766046  0.73640292\n",
      "  0.37828386 -0.12922703 -0.76843243  0.4189435 ]\n",
      "Average result: 0.203\n"
     ]
    }
   ],
   "source": [
    "from sklearn.model_selection import cross_val_score\n",
    "\n",
    "model = LinearRegression()\n",
    "results = cross_val_score(model, X, y, cv=10, scoring='r2')\n",
    "print(results)\n",
    "print('Average result: {}'.format(round(np.mean(results), 3)))"
   ]
  },
  {
   "cell_type": "code",
   "execution_count": 35,
   "metadata": {},
   "outputs": [],
   "source": [
    "from sklearn.model_selection import GridSearchCV"
   ]
  },
  {
   "cell_type": "code",
   "execution_count": 40,
   "metadata": {},
   "outputs": [],
   "source": [
    "fit_intercept = [True, False]\n",
    "normalize = [True, False]"
   ]
  },
  {
   "cell_type": "code",
   "execution_count": 41,
   "metadata": {},
   "outputs": [],
   "source": [
    "param_grid = dict(fit_intercept=fit_intercept, normalize=normalize)"
   ]
  },
  {
   "cell_type": "code",
   "execution_count": 43,
   "metadata": {},
   "outputs": [],
   "source": [
    "grid = GridSearchCV(LinearRegression(), param_grid=param_grid, cv=10, scoring='r2')"
   ]
  },
  {
   "cell_type": "code",
   "execution_count": 44,
   "metadata": {},
   "outputs": [
    {
     "data": {
      "text/plain": [
       "GridSearchCV(cv=10, error_score='raise-deprecating',\n",
       "             estimator=LinearRegression(copy_X=True, fit_intercept=True,\n",
       "                                        n_jobs=None, normalize=False),\n",
       "             iid='warn', n_jobs=None,\n",
       "             param_grid={'fit_intercept': [True, False],\n",
       "                         'normalize': [True, False]},\n",
       "             pre_dispatch='2*n_jobs', refit=True, return_train_score=False,\n",
       "             scoring='r2', verbose=0)"
      ]
     },
     "execution_count": 44,
     "metadata": {},
     "output_type": "execute_result"
    }
   ],
   "source": [
    "grid.fit(X, y)"
   ]
  },
  {
   "cell_type": "code",
   "execution_count": 45,
   "metadata": {},
   "outputs": [
    {
     "name": "stdout",
     "output_type": "stream",
     "text": [
      "mean_fit_time : 0.0008006095886230469\n",
      "std_fit_time : 0.0005571982060000337\n",
      "mean_score_time : 0.0004334449768066406\n",
      "std_score_time : 0.0010085417920780053\n",
      "param_fit_intercept : True\n",
      "param_normalize : True\n",
      "params : {'fit_intercept': True, 'normalize': True}\n",
      "split0_test_score : 0.733760819350227\n",
      "split1_test_score : 0.4730725033143365\n",
      "split2_test_score : -1.0063145437263952\n",
      "split3_test_score : 0.6411398421934951\n",
      "split4_test_score : 0.547660461762784\n",
      "split5_test_score : 0.7364029190694066\n",
      "split6_test_score : 0.3782838635247918\n",
      "split7_test_score : -0.12922703208877118\n",
      "split8_test_score : -0.7684324314385074\n",
      "split9_test_score : 0.41894349864428504\n",
      "mean_test_score : 0.20432849215858986\n",
      "std_test_score : 0.5957694325623496\n",
      "rank_test_score : 3\n"
     ]
    }
   ],
   "source": [
    "for k in grid.cv_results_:\n",
    "    print(k, \":\", grid.cv_results_[k][0])"
   ]
  },
  {
   "cell_type": "code",
   "execution_count": 46,
   "metadata": {},
   "outputs": [
    {
     "name": "stdout",
     "output_type": "stream",
     "text": [
      "[0.20432849 0.20432849 0.27917335 0.27917335]\n"
     ]
    }
   ],
   "source": [
    "test_scores = grid.cv_results_['mean_test_score']\n",
    "print(test_scores)"
   ]
  },
  {
   "cell_type": "code",
   "execution_count": 48,
   "metadata": {},
   "outputs": [
    {
     "name": "stdout",
     "output_type": "stream",
     "text": [
      "0.279173348427334\n",
      "{'fit_intercept': False, 'normalize': True}\n",
      "LinearRegression(copy_X=True, fit_intercept=False, n_jobs=None, normalize=True)\n"
     ]
    }
   ],
   "source": [
    "print(grid.best_score_)\n",
    "\n",
    "print(grid.best_params_)\n",
    "\n",
    "print(grid.best_estimator_)"
   ]
  },
  {
   "cell_type": "code",
   "execution_count": null,
   "metadata": {},
   "outputs": [],
   "source": []
  },
  {
   "cell_type": "code",
   "execution_count": null,
   "metadata": {},
   "outputs": [],
   "source": []
  }
 ],
 "metadata": {
  "kernelspec": {
   "display_name": "Python 3",
   "language": "python",
   "name": "python3"
  },
  "language_info": {
   "codemirror_mode": {
    "name": "ipython",
    "version": 3
   },
   "file_extension": ".py",
   "mimetype": "text/x-python",
   "name": "python",
   "nbconvert_exporter": "python",
   "pygments_lexer": "ipython3",
   "version": "3.7.0"
  }
 },
 "nbformat": 4,
 "nbformat_minor": 4
}
