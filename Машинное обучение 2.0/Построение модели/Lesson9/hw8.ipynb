{
 "cells": [
  {
   "cell_type": "code",
   "execution_count": 1,
   "metadata": {},
   "outputs": [],
   "source": [
    "from sklearn.datasets import load_iris\n",
    "from sklearn.model_selection import train_test_split\n",
    "from sklearn.linear_model import LinearRegression\n",
    "from sklearn import metrics\n",
    "import matplotlib.pyplot as plt\n",
    "import numpy as np\n",
    "import pandas as pd\n",
    "%matplotlib inline\n",
    "\n",
    "from jupyterthemes import jtplot\n",
    "jtplot.style()"
   ]
  },
  {
   "cell_type": "code",
   "execution_count": 2,
   "metadata": {},
   "outputs": [],
   "source": [
    "from sklearn.datasets import load_boston"
   ]
  },
  {
   "cell_type": "code",
   "execution_count": 3,
   "metadata": {},
   "outputs": [],
   "source": [
    "boston = load_boston()"
   ]
  },
  {
   "cell_type": "code",
   "execution_count": 4,
   "metadata": {},
   "outputs": [],
   "source": [
    "X = boston.data\n",
    "y = boston.target"
   ]
  },
  {
   "cell_type": "code",
   "execution_count": 5,
   "metadata": {},
   "outputs": [],
   "source": [
    "from sklearn.metrics import mean_squared_error, r2_score"
   ]
  },
  {
   "cell_type": "code",
   "execution_count": 6,
   "metadata": {},
   "outputs": [
    {
     "name": "stdout",
     "output_type": "stream",
     "text": [
      "№0\n",
      "  MSE: 21.04\n",
      "   R2: 0.63\n",
      "№1\n",
      "  MSE: 18.93\n",
      "   R2: 0.78\n",
      "№2\n",
      "  MSE: 24.27\n",
      "   R2: 0.71\n",
      "№3\n",
      "  MSE: 23.27\n",
      "   R2: 0.7\n",
      "№4\n",
      "  MSE: 25.66\n",
      "   R2: 0.7\n",
      "№5\n",
      "  MSE: 31.05\n",
      "   R2: 0.7\n",
      "№6\n",
      "  MSE: 22.3\n",
      "   R2: 0.75\n",
      "№7\n",
      "  MSE: 22.73\n",
      "   R2: 0.76\n",
      "№8\n",
      "  MSE: 16.78\n",
      "   R2: 0.74\n",
      "№9\n",
      "  MSE: 17.12\n",
      "   R2: 0.79\n"
     ]
    }
   ],
   "source": [
    "for i in range(10):\n",
    "    rand_state = np.random.randint(100) # Генерация случайного числа для random state\n",
    "    X_train, X_test, y_train, y_test = train_test_split(X, y, random_state=rand_state) # Разбиение датасета на обучаемую и тестовую выборку\n",
    "    model = LinearRegression() \n",
    "    model.fit(X_train, y_train)\n",
    "    predictions = model.predict(X_test)\n",
    "    mse = mean_squared_error(y_test, predictions)\n",
    "    r2 = r2_score(y_test, predictions) \n",
    "    print('№{}\\n  MSE: {}\\n   R2: {}'.format(i, round(mse, 2), round(r2, 2)))"
   ]
  },
  {
   "cell_type": "code",
   "execution_count": 7,
   "metadata": {},
   "outputs": [
    {
     "name": "stdout",
     "output_type": "stream",
     "text": [
      "[ 0.73376082  0.4730725  -1.00631454  0.64113984  0.54766046  0.73640292\n",
      "  0.37828386 -0.12922703 -0.76843243  0.4189435 ]\n",
      "Average result: 0.203\n"
     ]
    }
   ],
   "source": [
    "from sklearn.model_selection import cross_val_score\n",
    "\n",
    "model = LinearRegression()\n",
    "results = cross_val_score(model, X, y, cv=10, scoring='r2')\n",
    "print(results)\n",
    "print('Average result: {}'.format(round(np.mean(results), 3)))"
   ]
  },
  {
   "cell_type": "code",
   "execution_count": 8,
   "metadata": {},
   "outputs": [],
   "source": [
    "from sklearn.model_selection import GridSearchCV"
   ]
  },
  {
   "cell_type": "code",
   "execution_count": 9,
   "metadata": {},
   "outputs": [],
   "source": [
    "fit_intercept = [True, False]\n",
    "normalize = [True, False]"
   ]
  },
  {
   "cell_type": "code",
   "execution_count": 10,
   "metadata": {},
   "outputs": [],
   "source": [
    "param_grid = dict(fit_intercept=fit_intercept, normalize=normalize)"
   ]
  },
  {
   "cell_type": "code",
   "execution_count": 11,
   "metadata": {},
   "outputs": [],
   "source": [
    "grid = GridSearchCV(LinearRegression(), param_grid=param_grid, cv=10, scoring='r2')"
   ]
  },
  {
   "cell_type": "code",
   "execution_count": 12,
   "metadata": {},
   "outputs": [
    {
     "name": "stderr",
     "output_type": "stream",
     "text": [
      "C:\\Users\\Ivan\\AppData\\Roaming\\Python\\Python37\\site-packages\\sklearn\\model_selection\\_search.py:814: DeprecationWarning: The default of the `iid` parameter will change from True to False in version 0.22 and will be removed in 0.24. This will change numeric results when test-set sizes are unequal.\n",
      "  DeprecationWarning)\n"
     ]
    },
    {
     "data": {
      "text/plain": [
       "GridSearchCV(cv=10, error_score='raise-deprecating',\n",
       "             estimator=LinearRegression(copy_X=True, fit_intercept=True,\n",
       "                                        n_jobs=None, normalize=False),\n",
       "             iid='warn', n_jobs=None,\n",
       "             param_grid={'fit_intercept': [True, False],\n",
       "                         'normalize': [True, False]},\n",
       "             pre_dispatch='2*n_jobs', refit=True, return_train_score=False,\n",
       "             scoring='r2', verbose=0)"
      ]
     },
     "execution_count": 12,
     "metadata": {},
     "output_type": "execute_result"
    }
   ],
   "source": [
    "grid.fit(X, y)"
   ]
  },
  {
   "cell_type": "code",
   "execution_count": 13,
   "metadata": {},
   "outputs": [
    {
     "name": "stdout",
     "output_type": "stream",
     "text": [
      "mean_fit_time : 0.0018329858779907227\n",
      "std_fit_time : 0.0014703327141821576\n",
      "mean_score_time : 0.000989222526550293\n",
      "std_score_time : 0.001467190256532228\n",
      "param_fit_intercept : True\n",
      "param_normalize : True\n",
      "params : {'fit_intercept': True, 'normalize': True}\n",
      "split0_test_score : 0.733760819350227\n",
      "split1_test_score : 0.4730725033143365\n",
      "split2_test_score : -1.0063145437263952\n",
      "split3_test_score : 0.6411398421934951\n",
      "split4_test_score : 0.547660461762784\n",
      "split5_test_score : 0.7364029190694066\n",
      "split6_test_score : 0.3782838635247918\n",
      "split7_test_score : -0.12922703208877118\n",
      "split8_test_score : -0.7684324314385074\n",
      "split9_test_score : 0.41894349864428504\n",
      "mean_test_score : 0.20432849215858986\n",
      "std_test_score : 0.5957694325623496\n",
      "rank_test_score : 3\n"
     ]
    }
   ],
   "source": [
    "for k in grid.cv_results_:\n",
    "    print(k, \":\", grid.cv_results_[k][0])"
   ]
  },
  {
   "cell_type": "code",
   "execution_count": 14,
   "metadata": {},
   "outputs": [
    {
     "name": "stdout",
     "output_type": "stream",
     "text": [
      "[0.20432849 0.20432849 0.27917335 0.27917335]\n"
     ]
    }
   ],
   "source": [
    "test_scores = grid.cv_results_['mean_test_score']\n",
    "print(test_scores)"
   ]
  },
  {
   "cell_type": "code",
   "execution_count": 15,
   "metadata": {},
   "outputs": [
    {
     "name": "stdout",
     "output_type": "stream",
     "text": [
      "0.279173348427334\n",
      "{'fit_intercept': False, 'normalize': True}\n",
      "LinearRegression(copy_X=True, fit_intercept=False, n_jobs=None, normalize=True)\n"
     ]
    }
   ],
   "source": [
    "print(grid.best_score_)\n",
    "\n",
    "print(grid.best_params_)\n",
    "\n",
    "print(grid.best_estimator_)"
   ]
  },
  {
   "cell_type": "code",
   "execution_count": null,
   "metadata": {},
   "outputs": [],
   "source": []
  },
  {
   "cell_type": "code",
   "execution_count": 16,
   "metadata": {},
   "outputs": [
    {
     "ename": "IndexError",
     "evalue": "index 10000000 is out of bounds for axis 0 with size 506",
     "output_type": "error",
     "traceback": [
      "\u001b[1;31m---------------------------------------------------------------------------\u001b[0m",
      "\u001b[1;31mIndexError\u001b[0m                                Traceback (most recent call last)",
      "\u001b[1;32m<ipython-input-16-5efadc3036b9>\u001b[0m in \u001b[0;36m<module>\u001b[1;34m()\u001b[0m\n\u001b[1;32m----> 1\u001b[1;33m \u001b[0mX\u001b[0m\u001b[1;33m[\u001b[0m\u001b[1;36m10000000\u001b[0m\u001b[1;33m]\u001b[0m\u001b[1;33m\u001b[0m\u001b[0m\n\u001b[0m",
      "\u001b[1;31mIndexError\u001b[0m: index 10000000 is out of bounds for axis 0 with size 506"
     ]
    }
   ],
   "source": [
    "X[10000000]"
   ]
  },
  {
   "cell_type": "code",
   "execution_count": null,
   "metadata": {},
   "outputs": [],
   "source": []
  }
 ],
 "metadata": {
  "kernelspec": {
   "display_name": "Python 3",
   "language": "python",
   "name": "python3"
  },
  "language_info": {
   "codemirror_mode": {
    "name": "ipython",
    "version": 3
   },
   "file_extension": ".py",
   "mimetype": "text/x-python",
   "name": "python",
   "nbconvert_exporter": "python",
   "pygments_lexer": "ipython3",
   "version": "3.7.0"
  }
 },
 "nbformat": 4,
 "nbformat_minor": 4
}
