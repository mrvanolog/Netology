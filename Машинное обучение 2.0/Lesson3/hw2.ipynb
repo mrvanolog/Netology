{
 "cells": [
  {
   "cell_type": "code",
   "execution_count": 10,
   "metadata": {},
   "outputs": [],
   "source": [
    "import numpy as np\n",
    "from collections import Counter"
   ]
  },
  {
   "cell_type": "code",
   "execution_count": 11,
   "metadata": {},
   "outputs": [],
   "source": [
    "def HGini(l):\n",
    "    length = len(l)\n",
    "    cnt = Counter(l)\n",
    "    \n",
    "    gini = 0\n",
    "    for cl in cnt.values():\n",
    "        p_1 = cl / length\n",
    "        p_2 = (1 - p_1)\n",
    "        it = p_1 * p_2\n",
    "        gini += it\n",
    "    \n",
    "    return gini"
   ]
  },
  {
   "cell_type": "code",
   "execution_count": 12,
   "metadata": {},
   "outputs": [],
   "source": [
    "def IG(H, l, i):\n",
    "    left_l = l[:i]\n",
    "    right_l = l[i:]\n",
    "    return H(l) - (len(left_l) / len(l)) * H(left_l) - (len(right_l) / len(l)) * H(right_l)"
   ]
  },
  {
   "cell_type": "code",
   "execution_count": 25,
   "metadata": {},
   "outputs": [],
   "source": [
    "def max_IG(H, l):\n",
    "    IG_max = 0\n",
    "    index = 0\n",
    "    \n",
    "    for i in range(1,len(l)):\n",
    "        IG_curr = IG(H, l, i)\n",
    "        if IG_curr > IG_max:\n",
    "            IG_max = IG_curr\n",
    "            index = i\n",
    "    \n",
    "    return index, IG_max"
   ]
  },
  {
   "cell_type": "code",
   "execution_count": 26,
   "metadata": {},
   "outputs": [],
   "source": [
    "data = [1, 1, 2, 1, 1, 1, 1, 2, 2, 2, 1]"
   ]
  },
  {
   "cell_type": "code",
   "execution_count": 27,
   "metadata": {},
   "outputs": [
    {
     "name": "stdout",
     "output_type": "stream",
     "text": [
      "Разделитель: 7, IG: 0.17060212514757966\n"
     ]
    }
   ],
   "source": [
    "index1, IG1 = max_IG(HGini, data)\n",
    "print(f'Разделитель: {index1}, IG: {IG1}')"
   ]
  },
  {
   "cell_type": "code",
   "execution_count": 29,
   "metadata": {},
   "outputs": [
    {
     "name": "stdout",
     "output_type": "stream",
     "text": [
      "Left: [1, 1, 2, 1, 1, 1, 1]\n",
      "Right: [2, 2, 2, 1]\n"
     ]
    }
   ],
   "source": [
    "print('Left:', data[:index])\n",
    "print('Right:', data[index:])"
   ]
  },
  {
   "cell_type": "code",
   "execution_count": 32,
   "metadata": {},
   "outputs": [
    {
     "name": "stdout",
     "output_type": "stream",
     "text": [
      "Разделитель: 3, IG: 0.054421768707483054\n"
     ]
    }
   ],
   "source": [
    "index_left2, IG_l2 = max_IG(HGini, data[:index])\n",
    "print(f'Разделитель: {index_left2}, IG: {IG_l2}')"
   ]
  },
  {
   "cell_type": "code",
   "execution_count": 34,
   "metadata": {},
   "outputs": [
    {
     "name": "stdout",
     "output_type": "stream",
     "text": [
      "Разделитель: 3, IG: 0.375\n"
     ]
    }
   ],
   "source": [
    "index_right2, IG_r2 = max_IG(HGini, data[index:])\n",
    "print(f'Разделитель: {index_right2}, IG: {IG_r2}')"
   ]
  },
  {
   "cell_type": "code",
   "execution_count": 35,
   "metadata": {},
   "outputs": [
    {
     "name": "stdout",
     "output_type": "stream",
     "text": [
      "Left left: [1, 1, 2]\n",
      "Left right: [1, 1, 1, 1]\n"
     ]
    }
   ],
   "source": [
    "print('Left left:', data[:index_left2])\n",
    "print('Left right:', data[index_left2:index1])"
   ]
  },
  {
   "cell_type": "code",
   "execution_count": 37,
   "metadata": {},
   "outputs": [
    {
     "name": "stdout",
     "output_type": "stream",
     "text": [
      "Right left: [2, 2, 2]\n",
      "Right right: [1]\n"
     ]
    }
   ],
   "source": [
    "print('Right left:', data[index1:index1+index_right2])\n",
    "print('Right right:', data[index1+index_right2:])"
   ]
  },
  {
   "cell_type": "code",
   "execution_count": 38,
   "metadata": {},
   "outputs": [
    {
     "name": "stdout",
     "output_type": "stream",
     "text": [
      "Разделитель: 2, IG: 0.4444444444444445\n"
     ]
    }
   ],
   "source": [
    "index_left3, IG_l3 = max_IG(HGini, data[:index_left2])\n",
    "print(f'Разделитель: {index_left3}, IG: {IG_l3}')"
   ]
  },
  {
   "cell_type": "code",
   "execution_count": 39,
   "metadata": {},
   "outputs": [
    {
     "name": "stdout",
     "output_type": "stream",
     "text": [
      "Left left left: [1, 1]\n",
      "Left left right: [2]\n"
     ]
    }
   ],
   "source": [
    "print('Left left left:', data[:index_left3])\n",
    "print('Left left right:', data[index_left3:index_left2])"
   ]
  }
 ],
 "metadata": {
  "kernelspec": {
   "display_name": "Python 3",
   "language": "python",
   "name": "python3"
  },
  "language_info": {
   "codemirror_mode": {
    "name": "ipython",
    "version": 3
   },
   "file_extension": ".py",
   "mimetype": "text/x-python",
   "name": "python",
   "nbconvert_exporter": "python",
   "pygments_lexer": "ipython3",
   "version": "3.7.0"
  }
 },
 "nbformat": 4,
 "nbformat_minor": 4
}
